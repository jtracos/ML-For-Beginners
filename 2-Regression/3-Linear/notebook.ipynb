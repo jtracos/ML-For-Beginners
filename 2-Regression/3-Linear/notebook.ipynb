{
  "nbformat": 4,
  "nbformat_minor": 0,
  "metadata": {
    "language_info": {
      "codemirror_mode": {
        "name": "ipython",
        "version": 3
      },
      "file_extension": ".py",
      "mimetype": "text/x-python",
      "name": "python",
      "nbconvert_exporter": "python",
      "pygments_lexer": "ipython3",
      "version": "3.8.3-final"
    },
    "orig_nbformat": 2,
    "kernelspec": {
      "name": "python3",
      "display_name": "Python 3",
      "language": "python"
    },
    "colab": {
      "name": "notebook.ipynb",
      "provenance": []
    }
  },
  "cells": [
    {
      "cell_type": "markdown",
      "metadata": {
        "id": "qLZNs0aXX9pY"
      },
      "source": [
        "## Pumpkin Pricing\n",
        "\n",
        "Load up required libraries and dataset. Convert the data to a dataframe containing a subset of the data: \n",
        "\n",
        "- Only get pumpkins priced by the bushel\n",
        "- Convert the date to a month\n",
        "- Calculate the price to be an average of high and low prices\n",
        "- Convert the price to reflect the pricing by bushel quantity"
      ]
    },
    {
      "cell_type": "code",
      "metadata": {
        "id": "ZqBV9QhfX9pl",
        "colab": {
          "base_uri": "https://localhost:8080/",
          "height": 348
        },
        "outputId": "3dd36493-6d36-4919-fd70-331594a3a077"
      },
      "source": [
        "import pandas as pd\n",
        "import matplotlib.pyplot as plt\n",
        "import numpy as np\n",
        "\n",
        "pumpkins = pd.read_csv('US-pumpkins.csv')\n",
        "\n",
        "pumpkins.head()\n"
      ],
      "execution_count": null,
      "outputs": [
        {
          "output_type": "execute_result",
          "data": {
            "text/html": [
              "<div>\n",
              "<style scoped>\n",
              "    .dataframe tbody tr th:only-of-type {\n",
              "        vertical-align: middle;\n",
              "    }\n",
              "\n",
              "    .dataframe tbody tr th {\n",
              "        vertical-align: top;\n",
              "    }\n",
              "\n",
              "    .dataframe thead th {\n",
              "        text-align: right;\n",
              "    }\n",
              "</style>\n",
              "<table border=\"1\" class=\"dataframe\">\n",
              "  <thead>\n",
              "    <tr style=\"text-align: right;\">\n",
              "      <th></th>\n",
              "      <th>City Name</th>\n",
              "      <th>Type</th>\n",
              "      <th>Package</th>\n",
              "      <th>Variety</th>\n",
              "      <th>Sub Variety</th>\n",
              "      <th>Grade</th>\n",
              "      <th>Date</th>\n",
              "      <th>Low Price</th>\n",
              "      <th>High Price</th>\n",
              "      <th>Mostly Low</th>\n",
              "      <th>Mostly High</th>\n",
              "      <th>Origin</th>\n",
              "      <th>Origin District</th>\n",
              "      <th>Item Size</th>\n",
              "      <th>Color</th>\n",
              "      <th>Environment</th>\n",
              "      <th>Unit of Sale</th>\n",
              "      <th>Quality</th>\n",
              "      <th>Condition</th>\n",
              "      <th>Appearance</th>\n",
              "      <th>Storage</th>\n",
              "      <th>Crop</th>\n",
              "      <th>Repack</th>\n",
              "      <th>Trans Mode</th>\n",
              "      <th>Unnamed: 24</th>\n",
              "      <th>Unnamed: 25</th>\n",
              "    </tr>\n",
              "  </thead>\n",
              "  <tbody>\n",
              "    <tr>\n",
              "      <th>0</th>\n",
              "      <td>BALTIMORE</td>\n",
              "      <td>NaN</td>\n",
              "      <td>24 inch bins</td>\n",
              "      <td>NaN</td>\n",
              "      <td>NaN</td>\n",
              "      <td>NaN</td>\n",
              "      <td>4/29/17</td>\n",
              "      <td>270.0</td>\n",
              "      <td>280.0</td>\n",
              "      <td>270.0</td>\n",
              "      <td>280.0</td>\n",
              "      <td>MARYLAND</td>\n",
              "      <td>NaN</td>\n",
              "      <td>lge</td>\n",
              "      <td>NaN</td>\n",
              "      <td>NaN</td>\n",
              "      <td>NaN</td>\n",
              "      <td>NaN</td>\n",
              "      <td>NaN</td>\n",
              "      <td>NaN</td>\n",
              "      <td>NaN</td>\n",
              "      <td>NaN</td>\n",
              "      <td>E</td>\n",
              "      <td>NaN</td>\n",
              "      <td>NaN</td>\n",
              "      <td>NaN</td>\n",
              "    </tr>\n",
              "    <tr>\n",
              "      <th>1</th>\n",
              "      <td>BALTIMORE</td>\n",
              "      <td>NaN</td>\n",
              "      <td>24 inch bins</td>\n",
              "      <td>NaN</td>\n",
              "      <td>NaN</td>\n",
              "      <td>NaN</td>\n",
              "      <td>5/6/17</td>\n",
              "      <td>270.0</td>\n",
              "      <td>280.0</td>\n",
              "      <td>270.0</td>\n",
              "      <td>280.0</td>\n",
              "      <td>MARYLAND</td>\n",
              "      <td>NaN</td>\n",
              "      <td>lge</td>\n",
              "      <td>NaN</td>\n",
              "      <td>NaN</td>\n",
              "      <td>NaN</td>\n",
              "      <td>NaN</td>\n",
              "      <td>NaN</td>\n",
              "      <td>NaN</td>\n",
              "      <td>NaN</td>\n",
              "      <td>NaN</td>\n",
              "      <td>E</td>\n",
              "      <td>NaN</td>\n",
              "      <td>NaN</td>\n",
              "      <td>NaN</td>\n",
              "    </tr>\n",
              "    <tr>\n",
              "      <th>2</th>\n",
              "      <td>BALTIMORE</td>\n",
              "      <td>NaN</td>\n",
              "      <td>24 inch bins</td>\n",
              "      <td>HOWDEN TYPE</td>\n",
              "      <td>NaN</td>\n",
              "      <td>NaN</td>\n",
              "      <td>9/24/16</td>\n",
              "      <td>160.0</td>\n",
              "      <td>160.0</td>\n",
              "      <td>160.0</td>\n",
              "      <td>160.0</td>\n",
              "      <td>DELAWARE</td>\n",
              "      <td>NaN</td>\n",
              "      <td>med</td>\n",
              "      <td>ORANGE</td>\n",
              "      <td>NaN</td>\n",
              "      <td>NaN</td>\n",
              "      <td>NaN</td>\n",
              "      <td>NaN</td>\n",
              "      <td>NaN</td>\n",
              "      <td>NaN</td>\n",
              "      <td>NaN</td>\n",
              "      <td>N</td>\n",
              "      <td>NaN</td>\n",
              "      <td>NaN</td>\n",
              "      <td>NaN</td>\n",
              "    </tr>\n",
              "    <tr>\n",
              "      <th>3</th>\n",
              "      <td>BALTIMORE</td>\n",
              "      <td>NaN</td>\n",
              "      <td>24 inch bins</td>\n",
              "      <td>HOWDEN TYPE</td>\n",
              "      <td>NaN</td>\n",
              "      <td>NaN</td>\n",
              "      <td>9/24/16</td>\n",
              "      <td>160.0</td>\n",
              "      <td>160.0</td>\n",
              "      <td>160.0</td>\n",
              "      <td>160.0</td>\n",
              "      <td>VIRGINIA</td>\n",
              "      <td>NaN</td>\n",
              "      <td>med</td>\n",
              "      <td>ORANGE</td>\n",
              "      <td>NaN</td>\n",
              "      <td>NaN</td>\n",
              "      <td>NaN</td>\n",
              "      <td>NaN</td>\n",
              "      <td>NaN</td>\n",
              "      <td>NaN</td>\n",
              "      <td>NaN</td>\n",
              "      <td>N</td>\n",
              "      <td>NaN</td>\n",
              "      <td>NaN</td>\n",
              "      <td>NaN</td>\n",
              "    </tr>\n",
              "    <tr>\n",
              "      <th>4</th>\n",
              "      <td>BALTIMORE</td>\n",
              "      <td>NaN</td>\n",
              "      <td>24 inch bins</td>\n",
              "      <td>HOWDEN TYPE</td>\n",
              "      <td>NaN</td>\n",
              "      <td>NaN</td>\n",
              "      <td>11/5/16</td>\n",
              "      <td>90.0</td>\n",
              "      <td>100.0</td>\n",
              "      <td>90.0</td>\n",
              "      <td>100.0</td>\n",
              "      <td>MARYLAND</td>\n",
              "      <td>NaN</td>\n",
              "      <td>lge</td>\n",
              "      <td>ORANGE</td>\n",
              "      <td>NaN</td>\n",
              "      <td>NaN</td>\n",
              "      <td>NaN</td>\n",
              "      <td>NaN</td>\n",
              "      <td>NaN</td>\n",
              "      <td>NaN</td>\n",
              "      <td>NaN</td>\n",
              "      <td>N</td>\n",
              "      <td>NaN</td>\n",
              "      <td>NaN</td>\n",
              "      <td>NaN</td>\n",
              "    </tr>\n",
              "  </tbody>\n",
              "</table>\n",
              "</div>"
            ],
            "text/plain": [
              "   City Name Type       Package  ... Trans Mode Unnamed: 24  Unnamed: 25\n",
              "0  BALTIMORE  NaN  24 inch bins  ...        NaN         NaN          NaN\n",
              "1  BALTIMORE  NaN  24 inch bins  ...        NaN         NaN          NaN\n",
              "2  BALTIMORE  NaN  24 inch bins  ...        NaN         NaN          NaN\n",
              "3  BALTIMORE  NaN  24 inch bins  ...        NaN         NaN          NaN\n",
              "4  BALTIMORE  NaN  24 inch bins  ...        NaN         NaN          NaN\n",
              "\n",
              "[5 rows x 26 columns]"
            ]
          },
          "metadata": {
            "tags": []
          },
          "execution_count": 1
        }
      ]
    },
    {
      "cell_type": "code",
      "metadata": {
        "id": "FZcGlK9wX9py",
        "colab": {
          "base_uri": "https://localhost:8080/",
          "height": 206
        },
        "outputId": "49f02182-378a-4366-d9cd-3e85232dac2e"
      },
      "source": [
        "\n",
        "pumpkins = pumpkins[pumpkins['Package'].str.contains('bushel', case=True, regex=True)]\n",
        "\n",
        "new_columns = ['Package', 'Variety', 'City Name', 'Month', 'Low Price', 'High Price', 'Date', 'City Num', 'Variety Num']\n",
        "\n",
        "\n",
        "pumpkins = pumpkins.drop([c for c in pumpkins.columns if c not in new_columns], axis=1)\n",
        "\n",
        "price = (pumpkins['Low Price'] + pumpkins['High Price']) / 2\n",
        "\n",
        "month = pd.DatetimeIndex(pumpkins['Date']).month\n",
        "\n",
        "\n",
        "new_pumpkins = pd.DataFrame({'Month': month, 'Variety': pumpkins['Variety'], 'City': pumpkins['City Name'], 'Package': pumpkins['Package'], 'Low Price': pumpkins['Low Price'],'High Price': pumpkins['High Price'], 'Price': price})\n",
        "\n",
        "new_pumpkins.loc[new_pumpkins['Package'].str.contains('1 1/9'), 'Price'] = price/1.1\n",
        "\n",
        "new_pumpkins.loc[new_pumpkins['Package'].str.contains('1/2'), 'Price'] = price*2\n",
        "\n",
        "new_pumpkins.head()\n"
      ],
      "execution_count": null,
      "outputs": [
        {
          "output_type": "execute_result",
          "data": {
            "text/html": [
              "<div>\n",
              "<style scoped>\n",
              "    .dataframe tbody tr th:only-of-type {\n",
              "        vertical-align: middle;\n",
              "    }\n",
              "\n",
              "    .dataframe tbody tr th {\n",
              "        vertical-align: top;\n",
              "    }\n",
              "\n",
              "    .dataframe thead th {\n",
              "        text-align: right;\n",
              "    }\n",
              "</style>\n",
              "<table border=\"1\" class=\"dataframe\">\n",
              "  <thead>\n",
              "    <tr style=\"text-align: right;\">\n",
              "      <th></th>\n",
              "      <th>Month</th>\n",
              "      <th>Variety</th>\n",
              "      <th>City</th>\n",
              "      <th>Package</th>\n",
              "      <th>Low Price</th>\n",
              "      <th>High Price</th>\n",
              "      <th>Price</th>\n",
              "    </tr>\n",
              "  </thead>\n",
              "  <tbody>\n",
              "    <tr>\n",
              "      <th>70</th>\n",
              "      <td>9</td>\n",
              "      <td>PIE TYPE</td>\n",
              "      <td>BALTIMORE</td>\n",
              "      <td>1 1/9 bushel cartons</td>\n",
              "      <td>15.0</td>\n",
              "      <td>15.0</td>\n",
              "      <td>13.636364</td>\n",
              "    </tr>\n",
              "    <tr>\n",
              "      <th>71</th>\n",
              "      <td>9</td>\n",
              "      <td>PIE TYPE</td>\n",
              "      <td>BALTIMORE</td>\n",
              "      <td>1 1/9 bushel cartons</td>\n",
              "      <td>18.0</td>\n",
              "      <td>18.0</td>\n",
              "      <td>16.363636</td>\n",
              "    </tr>\n",
              "    <tr>\n",
              "      <th>72</th>\n",
              "      <td>10</td>\n",
              "      <td>PIE TYPE</td>\n",
              "      <td>BALTIMORE</td>\n",
              "      <td>1 1/9 bushel cartons</td>\n",
              "      <td>18.0</td>\n",
              "      <td>18.0</td>\n",
              "      <td>16.363636</td>\n",
              "    </tr>\n",
              "    <tr>\n",
              "      <th>73</th>\n",
              "      <td>10</td>\n",
              "      <td>PIE TYPE</td>\n",
              "      <td>BALTIMORE</td>\n",
              "      <td>1 1/9 bushel cartons</td>\n",
              "      <td>17.0</td>\n",
              "      <td>17.0</td>\n",
              "      <td>15.454545</td>\n",
              "    </tr>\n",
              "    <tr>\n",
              "      <th>74</th>\n",
              "      <td>10</td>\n",
              "      <td>PIE TYPE</td>\n",
              "      <td>BALTIMORE</td>\n",
              "      <td>1 1/9 bushel cartons</td>\n",
              "      <td>15.0</td>\n",
              "      <td>15.0</td>\n",
              "      <td>13.636364</td>\n",
              "    </tr>\n",
              "  </tbody>\n",
              "</table>\n",
              "</div>"
            ],
            "text/plain": [
              "    Month   Variety       City  ... Low Price  High Price      Price\n",
              "70      9  PIE TYPE  BALTIMORE  ...      15.0        15.0  13.636364\n",
              "71      9  PIE TYPE  BALTIMORE  ...      18.0        18.0  16.363636\n",
              "72     10  PIE TYPE  BALTIMORE  ...      18.0        18.0  16.363636\n",
              "73     10  PIE TYPE  BALTIMORE  ...      17.0        17.0  15.454545\n",
              "74     10  PIE TYPE  BALTIMORE  ...      15.0        15.0  13.636364\n",
              "\n",
              "[5 rows x 7 columns]"
            ]
          },
          "metadata": {
            "tags": []
          },
          "execution_count": 2
        }
      ]
    },
    {
      "cell_type": "markdown",
      "metadata": {
        "id": "GGahgkiBX9p5"
      },
      "source": [
        "A basic scatterplot reminds us that we only have month data from August through December. We probably need more data to be able to draw conclusions in a linear fashion."
      ]
    },
    {
      "cell_type": "code",
      "metadata": {
        "id": "RL9SjGHZX9p8",
        "colab": {
          "base_uri": "https://localhost:8080/",
          "height": 283
        },
        "outputId": "33f522f0-40a1-4a62-9c36-b5babe3ca2ce"
      },
      "source": [
        "import matplotlib.pyplot as plt\n",
        "plt.scatter('Month','Price',data=new_pumpkins)"
      ],
      "execution_count": null,
      "outputs": [
        {
          "output_type": "execute_result",
          "data": {
            "text/plain": [
              "<matplotlib.collections.PathCollection at 0x7fb11de98790>"
            ]
          },
          "metadata": {
            "tags": []
          },
          "execution_count": 3
        },
        {
          "output_type": "display_data",
          "data": {
            "image/png": "[encoded data removed]",
            "text/plain": [
              "<Figure size 432x288 with 1 Axes>"
            ]
          },
          "metadata": {
            "tags": [],
            "needs_background": "light"
          }
        }
      ]
    },
    {
      "cell_type": "markdown",
      "metadata": {
        "id": "IkU0PXinxOCW"
      },
      "source": [
        "Now, we process labels in data to analyze relations between features. We calculate correlations to select features to make predictions"
      ]
    },
    {
      "cell_type": "code",
      "metadata": {
        "id": "exUa138UX9p_"
      },
      "source": [
        "from sklearn.preprocessing import LabelEncoder\n",
        "new_pumpkins.iloc[:,0:-1] = new_pumpkins.iloc[:,0:-1].apply(LabelEncoder().fit_transform)"
      ],
      "execution_count": null,
      "outputs": []
    },
    {
      "cell_type": "code",
      "metadata": {
        "id": "CMCW1v7VbTja",
        "colab": {
          "base_uri": "https://localhost:8080/"
        },
        "outputId": "2cd9210d-c3bc-46d0-9946-f034da292a15"
      },
      "source": [
        "print(new_pumpkins[\"City\"].corr(new_pumpkins[\"Price\"]))"
      ],
      "execution_count": null,
      "outputs": [
        {
          "output_type": "stream",
          "text": [
            "0.3236397181608923\n"
          ],
          "name": "stdout"
        }
      ]
    },
    {
      "cell_type": "code",
      "metadata": {
        "id": "XYjGq9atcQS4",
        "colab": {
          "base_uri": "https://localhost:8080/"
        },
        "outputId": "307a2394-9fb7-4017-df06-57e75b6fa127"
      },
      "source": [
        "print(new_pumpkins[\"Package\"].corr(new_pumpkins[\"Price\"]))"
      ],
      "execution_count": null,
      "outputs": [
        {
          "output_type": "stream",
          "text": [
            "0.6061712937226016\n"
          ],
          "name": "stdout"
        }
      ]
    },
    {
      "cell_type": "code",
      "metadata": {
        "id": "DkrBuFTVdDtQ",
        "colab": {
          "base_uri": "https://localhost:8080/"
        },
        "outputId": "ea4b6514-ea65-4de2-9199-0d8cde788285"
      },
      "source": [
        "#remove NA values\n",
        "new_pumpkins.dropna(inplace=True)\n",
        "new_pumpkins.info()"
      ],
      "execution_count": null,
      "outputs": [
        {
          "output_type": "stream",
          "text": [
            "<class 'pandas.core.frame.DataFrame'>\n",
            "Int64Index: 415 entries, 70 to 1742\n",
            "Data columns (total 7 columns):\n",
            " #   Column      Non-Null Count  Dtype  \n",
            "---  ------      --------------  -----  \n",
            " 0   Month       415 non-null    int64  \n",
            " 1   Variety     415 non-null    int64  \n",
            " 2   City        415 non-null    int64  \n",
            " 3   Package     415 non-null    int64  \n",
            " 4   Low Price   415 non-null    int64  \n",
            " 5   High Price  415 non-null    int64  \n",
            " 6   Price       415 non-null    float64\n",
            "dtypes: float64(1), int64(6)\n",
            "memory usage: 25.9 KB\n"
          ],
          "name": "stdout"
        }
      ]
    },
    {
      "cell_type": "markdown",
      "metadata": {
        "id": "BFi8YESYx9QR"
      },
      "source": [
        "Select features with higher correlation to make regresssion and fit a model"
      ]
    },
    {
      "cell_type": "code",
      "metadata": {
        "id": "zJ78rNz5djnY",
        "colab": {
          "base_uri": "https://localhost:8080/",
          "height": 424
        },
        "outputId": "94497699-d5af-4f1e-827e-70cff5708fc0"
      },
      "source": [
        "new_columns = [\"Package\", \"Price\"]\n",
        "lin_pumpkins = new_pumpkins.drop([c for c in new_pumpkins.columns if c not in new_columns], axis = \"columns\")\n",
        "lin_pumpkins"
      ],
      "execution_count": null,
      "outputs": [
        {
          "output_type": "execute_result",
          "data": {
            "text/html": [
              "<div>\n",
              "<style scoped>\n",
              "    .dataframe tbody tr th:only-of-type {\n",
              "        vertical-align: middle;\n",
              "    }\n",
              "\n",
              "    .dataframe tbody tr th {\n",
              "        vertical-align: top;\n",
              "    }\n",
              "\n",
              "    .dataframe thead th {\n",
              "        text-align: right;\n",
              "    }\n",
              "</style>\n",
              "<table border=\"1\" class=\"dataframe\">\n",
              "  <thead>\n",
              "    <tr style=\"text-align: right;\">\n",
              "      <th></th>\n",
              "      <th>Package</th>\n",
              "      <th>Price</th>\n",
              "    </tr>\n",
              "  </thead>\n",
              "  <tbody>\n",
              "    <tr>\n",
              "      <th>70</th>\n",
              "      <td>0</td>\n",
              "      <td>13.636364</td>\n",
              "    </tr>\n",
              "    <tr>\n",
              "      <th>71</th>\n",
              "      <td>0</td>\n",
              "      <td>16.363636</td>\n",
              "    </tr>\n",
              "    <tr>\n",
              "      <th>72</th>\n",
              "      <td>0</td>\n",
              "      <td>16.363636</td>\n",
              "    </tr>\n",
              "    <tr>\n",
              "      <th>73</th>\n",
              "      <td>0</td>\n",
              "      <td>15.454545</td>\n",
              "    </tr>\n",
              "    <tr>\n",
              "      <th>74</th>\n",
              "      <td>0</td>\n",
              "      <td>13.636364</td>\n",
              "    </tr>\n",
              "    <tr>\n",
              "      <th>...</th>\n",
              "      <td>...</td>\n",
              "      <td>...</td>\n",
              "    </tr>\n",
              "    <tr>\n",
              "      <th>1738</th>\n",
              "      <td>2</td>\n",
              "      <td>30.000000</td>\n",
              "    </tr>\n",
              "    <tr>\n",
              "      <th>1739</th>\n",
              "      <td>2</td>\n",
              "      <td>28.750000</td>\n",
              "    </tr>\n",
              "    <tr>\n",
              "      <th>1740</th>\n",
              "      <td>2</td>\n",
              "      <td>25.750000</td>\n",
              "    </tr>\n",
              "    <tr>\n",
              "      <th>1741</th>\n",
              "      <td>2</td>\n",
              "      <td>24.000000</td>\n",
              "    </tr>\n",
              "    <tr>\n",
              "      <th>1742</th>\n",
              "      <td>2</td>\n",
              "      <td>24.000000</td>\n",
              "    </tr>\n",
              "  </tbody>\n",
              "</table>\n",
              "<p>415 rows × 2 columns</p>\n",
              "</div>"
            ],
            "text/plain": [
              "      Package      Price\n",
              "70          0  13.636364\n",
              "71          0  16.363636\n",
              "72          0  16.363636\n",
              "73          0  15.454545\n",
              "74          0  13.636364\n",
              "...       ...        ...\n",
              "1738        2  30.000000\n",
              "1739        2  28.750000\n",
              "1740        2  25.750000\n",
              "1741        2  24.000000\n",
              "1742        2  24.000000\n",
              "\n",
              "[415 rows x 2 columns]"
            ]
          },
          "metadata": {
            "tags": []
          },
          "execution_count": 8
        }
      ]
    },
    {
      "cell_type": "code",
      "metadata": {
        "id": "oQaOr7Ovd_nC"
      },
      "source": [
        "X = lin_pumpkins.values[:,:1]\n",
        "y = lin_pumpkins.values[:,1:2]"
      ],
      "execution_count": null,
      "outputs": []
    },
    {
      "cell_type": "code",
      "metadata": {
        "id": "DFtkj9nuj2WU",
        "colab": {
          "base_uri": "https://localhost:8080/"
        },
        "outputId": "5e3deae8-9023-45e9-a847-eb57316f5a75"
      },
      "source": [
        "from sklearn.linear_model import LinearRegression\n",
        "from sklearn.metrics import r2_score, mean_squared_error, mean_absolute_error\n",
        "from sklearn.model_selection import train_test_split\n",
        "X_train, X_test, y_train, y_test =  train_test_split(X,y, test_size = 0.2, random_state = 0)\n",
        "\n",
        "lin_reg = LinearRegression()\n",
        "lin_reg.fit(X_train,y_train)\n",
        "\n",
        "pred = lin_reg.predict(X_test)\n",
        "print(f\"model acc: {lin_reg.score(X_test, y_test)}\")\n"
      ],
      "execution_count": null,
      "outputs": [
        {
          "output_type": "stream",
          "text": [
            "model acc: 0.46811022082785075\n"
          ],
          "name": "stdout"
        }
      ]
    },
    {
      "cell_type": "code",
      "metadata": {
        "id": "whxL-81dmvvG",
        "colab": {
          "base_uri": "https://localhost:8080/",
          "height": 279
        },
        "outputId": "e5f3cc95-4997-4bf9-d811-67c52dcbbdae"
      },
      "source": [
        "plt.scatter(X_test, y_test, color = \"black\")\n",
        "plt.plot(X_test, pred)\n",
        "\n",
        "plt.xlabel(\"Package\")\n",
        "plt.ylabel(\"Price\")\n",
        "_ = plt.show()"
      ],
      "execution_count": null,
      "outputs": [
        {
          "output_type": "display_data",
          "data": {
            "image/png": "[encoded data removed]",
            "text/plain": [
              "<Figure size 432x288 with 1 Axes>"
            ]
          },
          "metadata": {
            "tags": [],
            "needs_background": "light"
          }
        }
      ]
    },
    {
      "cell_type": "markdown",
      "metadata": {
        "id": "Z1fc0YiInzuz"
      },
      "source": [
        "##Polynomial regresion"
      ]
    },
    {
      "cell_type": "code",
      "metadata": {
        "id": "P5rDuaElnWUG",
        "colab": {
          "base_uri": "https://localhost:8080/",
          "height": 424
        },
        "outputId": "6c296dea-5230-403d-e465-e45ee8b3f86f"
      },
      "source": [
        "new_columns = [\"Variety\", \"Package\", \"City\", \"Month\", \"Price\"]\n",
        "\n",
        "poly_pumpkins = new_pumpkins.drop([c for c in new_pumpkins.columns if c not in new_columns], axis = 1)\n",
        "poly_pumpkins"
      ],
      "execution_count": null,
      "outputs": [
        {
          "output_type": "execute_result",
          "data": {
            "text/html": [
              "<div>\n",
              "<style scoped>\n",
              "    .dataframe tbody tr th:only-of-type {\n",
              "        vertical-align: middle;\n",
              "    }\n",
              "\n",
              "    .dataframe tbody tr th {\n",
              "        vertical-align: top;\n",
              "    }\n",
              "\n",
              "    .dataframe thead th {\n",
              "        text-align: right;\n",
              "    }\n",
              "</style>\n",
              "<table border=\"1\" class=\"dataframe\">\n",
              "  <thead>\n",
              "    <tr style=\"text-align: right;\">\n",
              "      <th></th>\n",
              "      <th>Month</th>\n",
              "      <th>Variety</th>\n",
              "      <th>City</th>\n",
              "      <th>Package</th>\n",
              "      <th>Price</th>\n",
              "    </tr>\n",
              "  </thead>\n",
              "  <tbody>\n",
              "    <tr>\n",
              "      <th>70</th>\n",
              "      <td>1</td>\n",
              "      <td>3</td>\n",
              "      <td>1</td>\n",
              "      <td>0</td>\n",
              "      <td>13.636364</td>\n",
              "    </tr>\n",
              "    <tr>\n",
              "      <th>71</th>\n",
              "      <td>1</td>\n",
              "      <td>3</td>\n",
              "      <td>1</td>\n",
              "      <td>0</td>\n",
              "      <td>16.363636</td>\n",
              "    </tr>\n",
              "    <tr>\n",
              "      <th>72</th>\n",
              "      <td>2</td>\n",
              "      <td>3</td>\n",
              "      <td>1</td>\n",
              "      <td>0</td>\n",
              "      <td>16.363636</td>\n",
              "    </tr>\n",
              "    <tr>\n",
              "      <th>73</th>\n",
              "      <td>2</td>\n",
              "      <td>3</td>\n",
              "      <td>1</td>\n",
              "      <td>0</td>\n",
              "      <td>15.454545</td>\n",
              "    </tr>\n",
              "    <tr>\n",
              "      <th>74</th>\n",
              "      <td>2</td>\n",
              "      <td>3</td>\n",
              "      <td>1</td>\n",
              "      <td>0</td>\n",
              "      <td>13.636364</td>\n",
              "    </tr>\n",
              "    <tr>\n",
              "      <th>...</th>\n",
              "      <td>...</td>\n",
              "      <td>...</td>\n",
              "      <td>...</td>\n",
              "      <td>...</td>\n",
              "      <td>...</td>\n",
              "    </tr>\n",
              "    <tr>\n",
              "      <th>1738</th>\n",
              "      <td>1</td>\n",
              "      <td>1</td>\n",
              "      <td>9</td>\n",
              "      <td>2</td>\n",
              "      <td>30.000000</td>\n",
              "    </tr>\n",
              "    <tr>\n",
              "      <th>1739</th>\n",
              "      <td>1</td>\n",
              "      <td>1</td>\n",
              "      <td>9</td>\n",
              "      <td>2</td>\n",
              "      <td>28.750000</td>\n",
              "    </tr>\n",
              "    <tr>\n",
              "      <th>1740</th>\n",
              "      <td>1</td>\n",
              "      <td>1</td>\n",
              "      <td>9</td>\n",
              "      <td>2</td>\n",
              "      <td>25.750000</td>\n",
              "    </tr>\n",
              "    <tr>\n",
              "      <th>1741</th>\n",
              "      <td>1</td>\n",
              "      <td>1</td>\n",
              "      <td>9</td>\n",
              "      <td>2</td>\n",
              "      <td>24.000000</td>\n",
              "    </tr>\n",
              "    <tr>\n",
              "      <th>1742</th>\n",
              "      <td>1</td>\n",
              "      <td>1</td>\n",
              "      <td>9</td>\n",
              "      <td>2</td>\n",
              "      <td>24.000000</td>\n",
              "    </tr>\n",
              "  </tbody>\n",
              "</table>\n",
              "<p>415 rows × 5 columns</p>\n",
              "</div>"
            ],
            "text/plain": [
              "      Month  Variety  City  Package      Price\n",
              "70        1        3     1        0  13.636364\n",
              "71        1        3     1        0  16.363636\n",
              "72        2        3     1        0  16.363636\n",
              "73        2        3     1        0  15.454545\n",
              "74        2        3     1        0  13.636364\n",
              "...     ...      ...   ...      ...        ...\n",
              "1738      1        1     9        2  30.000000\n",
              "1739      1        1     9        2  28.750000\n",
              "1740      1        1     9        2  25.750000\n",
              "1741      1        1     9        2  24.000000\n",
              "1742      1        1     9        2  24.000000\n",
              "\n",
              "[415 rows x 5 columns]"
            ]
          },
          "metadata": {
            "tags": []
          },
          "execution_count": 12
        }
      ]
    },
    {
      "cell_type": "code",
      "metadata": {
        "id": "XryX-dCgoS97",
        "colab": {
          "base_uri": "https://localhost:8080/",
          "height": 147
        },
        "outputId": "354dd9c6-ddbe-430d-b8b8-b436c9136d8b"
      },
      "source": [
        "corr = poly_pumpkins.corr()\n",
        "corr.style.background_gradient(cmap = \"coolwarm\")"
      ],
      "execution_count": null,
      "outputs": [
        {
          "output_type": "execute_result",
          "data": {
            "text/html": [
              "<style  type=\"text/css\" >\n",
              "#T_1e7730c6_ffe5_11eb_98c1_0242ac1c0002row0_col0,#T_1e7730c6_ffe5_11eb_98c1_0242ac1c0002row1_col1,#T_1e7730c6_ffe5_11eb_98c1_0242ac1c0002row2_col2,#T_1e7730c6_ffe5_11eb_98c1_0242ac1c0002row3_col3,#T_1e7730c6_ffe5_11eb_98c1_0242ac1c0002row4_col4{\n",
              "            background-color:  #b40426;\n",
              "            color:  #f1f1f1;\n",
              "        }#T_1e7730c6_ffe5_11eb_98c1_0242ac1c0002row0_col1{\n",
              "            background-color:  #ead4c8;\n",
              "            color:  #000000;\n",
              "        }#T_1e7730c6_ffe5_11eb_98c1_0242ac1c0002row0_col2{\n",
              "            background-color:  #4961d2;\n",
              "            color:  #f1f1f1;\n",
              "        }#T_1e7730c6_ffe5_11eb_98c1_0242ac1c0002row0_col3{\n",
              "            background-color:  #9bbcff;\n",
              "            color:  #000000;\n",
              "        }#T_1e7730c6_ffe5_11eb_98c1_0242ac1c0002row0_col4{\n",
              "            background-color:  #bbd1f8;\n",
              "            color:  #000000;\n",
              "        }#T_1e7730c6_ffe5_11eb_98c1_0242ac1c0002row1_col0{\n",
              "            background-color:  #9fbfff;\n",
              "            color:  #000000;\n",
              "        }#T_1e7730c6_ffe5_11eb_98c1_0242ac1c0002row1_col2,#T_1e7730c6_ffe5_11eb_98c1_0242ac1c0002row1_col3,#T_1e7730c6_ffe5_11eb_98c1_0242ac1c0002row1_col4,#T_1e7730c6_ffe5_11eb_98c1_0242ac1c0002row2_col0,#T_1e7730c6_ffe5_11eb_98c1_0242ac1c0002row4_col1{\n",
              "            background-color:  #3b4cc0;\n",
              "            color:  #f1f1f1;\n",
              "        }#T_1e7730c6_ffe5_11eb_98c1_0242ac1c0002row2_col1{\n",
              "            background-color:  #a9c6fd;\n",
              "            color:  #000000;\n",
              "        }#T_1e7730c6_ffe5_11eb_98c1_0242ac1c0002row2_col3{\n",
              "            background-color:  #edd2c3;\n",
              "            color:  #000000;\n",
              "        }#T_1e7730c6_ffe5_11eb_98c1_0242ac1c0002row2_col4{\n",
              "            background-color:  #f5c0a7;\n",
              "            color:  #000000;\n",
              "        }#T_1e7730c6_ffe5_11eb_98c1_0242ac1c0002row3_col0{\n",
              "            background-color:  #455cce;\n",
              "            color:  #f1f1f1;\n",
              "        }#T_1e7730c6_ffe5_11eb_98c1_0242ac1c0002row3_col1{\n",
              "            background-color:  #6485ec;\n",
              "            color:  #000000;\n",
              "        }#T_1e7730c6_ffe5_11eb_98c1_0242ac1c0002row3_col2{\n",
              "            background-color:  #ccd9ed;\n",
              "            color:  #000000;\n",
              "        }#T_1e7730c6_ffe5_11eb_98c1_0242ac1c0002row3_col4{\n",
              "            background-color:  #f08a6c;\n",
              "            color:  #000000;\n",
              "        }#T_1e7730c6_ffe5_11eb_98c1_0242ac1c0002row4_col0{\n",
              "            background-color:  #445acc;\n",
              "            color:  #f1f1f1;\n",
              "        }#T_1e7730c6_ffe5_11eb_98c1_0242ac1c0002row4_col2{\n",
              "            background-color:  #d2dbe8;\n",
              "            color:  #000000;\n",
              "        }#T_1e7730c6_ffe5_11eb_98c1_0242ac1c0002row4_col3{\n",
              "            background-color:  #f39778;\n",
              "            color:  #000000;\n",
              "        }</style><table id=\"T_1e7730c6_ffe5_11eb_98c1_0242ac1c0002\" ><thead>    <tr>        <th class=\"blank level0\" ></th>        <th class=\"col_heading level0 col0\" >Month</th>        <th class=\"col_heading level0 col1\" >Variety</th>        <th class=\"col_heading level0 col2\" >City</th>        <th class=\"col_heading level0 col3\" >Package</th>        <th class=\"col_heading level0 col4\" >Price</th>    </tr></thead><tbody>\n",
              "                <tr>\n",
              "                        <th id=\"T_1e7730c6_ffe5_11eb_98c1_0242ac1c0002level0_row0\" class=\"row_heading level0 row0\" >Month</th>\n",
              "                        <td id=\"T_1e7730c6_ffe5_11eb_98c1_0242ac1c0002row0_col0\" class=\"data row0 col0\" >1.000000</td>\n",
              "                        <td id=\"T_1e7730c6_ffe5_11eb_98c1_0242ac1c0002row0_col1\" class=\"data row0 col1\" >0.171330</td>\n",
              "                        <td id=\"T_1e7730c6_ffe5_11eb_98c1_0242ac1c0002row0_col2\" class=\"data row0 col2\" >-0.188728</td>\n",
              "                        <td id=\"T_1e7730c6_ffe5_11eb_98c1_0242ac1c0002row0_col3\" class=\"data row0 col3\" >-0.144847</td>\n",
              "                        <td id=\"T_1e7730c6_ffe5_11eb_98c1_0242ac1c0002row0_col4\" class=\"data row0 col4\" >-0.148783</td>\n",
              "            </tr>\n",
              "            <tr>\n",
              "                        <th id=\"T_1e7730c6_ffe5_11eb_98c1_0242ac1c0002level0_row1\" class=\"row_heading level0 row1\" >Variety</th>\n",
              "                        <td id=\"T_1e7730c6_ffe5_11eb_98c1_0242ac1c0002row1_col0\" class=\"data row1 col0\" >0.171330</td>\n",
              "                        <td id=\"T_1e7730c6_ffe5_11eb_98c1_0242ac1c0002row1_col1\" class=\"data row1 col1\" >1.000000</td>\n",
              "                        <td id=\"T_1e7730c6_ffe5_11eb_98c1_0242ac1c0002row1_col2\" class=\"data row1 col2\" >-0.248441</td>\n",
              "                        <td id=\"T_1e7730c6_ffe5_11eb_98c1_0242ac1c0002row1_col3\" class=\"data row1 col3\" >-0.614855</td>\n",
              "                        <td id=\"T_1e7730c6_ffe5_11eb_98c1_0242ac1c0002row1_col4\" class=\"data row1 col4\" >-0.863479</td>\n",
              "            </tr>\n",
              "            <tr>\n",
              "                        <th id=\"T_1e7730c6_ffe5_11eb_98c1_0242ac1c0002level0_row2\" class=\"row_heading level0 row2\" >City</th>\n",
              "                        <td id=\"T_1e7730c6_ffe5_11eb_98c1_0242ac1c0002row2_col0\" class=\"data row2 col0\" >-0.188728</td>\n",
              "                        <td id=\"T_1e7730c6_ffe5_11eb_98c1_0242ac1c0002row2_col1\" class=\"data row2 col1\" >-0.248441</td>\n",
              "                        <td id=\"T_1e7730c6_ffe5_11eb_98c1_0242ac1c0002row2_col2\" class=\"data row2 col2\" >1.000000</td>\n",
              "                        <td id=\"T_1e7730c6_ffe5_11eb_98c1_0242ac1c0002row2_col3\" class=\"data row2 col3\" >0.301604</td>\n",
              "                        <td id=\"T_1e7730c6_ffe5_11eb_98c1_0242ac1c0002row2_col4\" class=\"data row2 col4\" >0.323640</td>\n",
              "            </tr>\n",
              "            <tr>\n",
              "                        <th id=\"T_1e7730c6_ffe5_11eb_98c1_0242ac1c0002level0_row3\" class=\"row_heading level0 row3\" >Package</th>\n",
              "                        <td id=\"T_1e7730c6_ffe5_11eb_98c1_0242ac1c0002row3_col0\" class=\"data row3 col0\" >-0.144847</td>\n",
              "                        <td id=\"T_1e7730c6_ffe5_11eb_98c1_0242ac1c0002row3_col1\" class=\"data row3 col1\" >-0.614855</td>\n",
              "                        <td id=\"T_1e7730c6_ffe5_11eb_98c1_0242ac1c0002row3_col2\" class=\"data row3 col2\" >0.301604</td>\n",
              "                        <td id=\"T_1e7730c6_ffe5_11eb_98c1_0242ac1c0002row3_col3\" class=\"data row3 col3\" >1.000000</td>\n",
              "                        <td id=\"T_1e7730c6_ffe5_11eb_98c1_0242ac1c0002row3_col4\" class=\"data row3 col4\" >0.606171</td>\n",
              "            </tr>\n",
              "            <tr>\n",
              "                        <th id=\"T_1e7730c6_ffe5_11eb_98c1_0242ac1c0002level0_row4\" class=\"row_heading level0 row4\" >Price</th>\n",
              "                        <td id=\"T_1e7730c6_ffe5_11eb_98c1_0242ac1c0002row4_col0\" class=\"data row4 col0\" >-0.148783</td>\n",
              "                        <td id=\"T_1e7730c6_ffe5_11eb_98c1_0242ac1c0002row4_col1\" class=\"data row4 col1\" >-0.863479</td>\n",
              "                        <td id=\"T_1e7730c6_ffe5_11eb_98c1_0242ac1c0002row4_col2\" class=\"data row4 col2\" >0.323640</td>\n",
              "                        <td id=\"T_1e7730c6_ffe5_11eb_98c1_0242ac1c0002row4_col3\" class=\"data row4 col3\" >0.606171</td>\n",
              "                        <td id=\"T_1e7730c6_ffe5_11eb_98c1_0242ac1c0002row4_col4\" class=\"data row4 col4\" >1.000000</td>\n",
              "            </tr>\n",
              "    </tbody></table>"
            ],
            "text/plain": [
              "<pandas.io.formats.style.Styler at 0x7fb10add1410>"
            ]
          },
          "metadata": {
            "tags": []
          },
          "execution_count": 13
        }
      ]
    },
    {
      "cell_type": "code",
      "metadata": {
        "id": "8LrYbm1zooMh"
      },
      "source": [
        "#X: package\n",
        "#y: prices\n",
        "X = poly_pumpkins.iloc[:,3:4].values\n",
        "y = poly_pumpkins.iloc[:,4:5].values"
      ],
      "execution_count": null,
      "outputs": []
    },
    {
      "cell_type": "code",
      "metadata": {
        "id": "PMD9Oa6_poDW"
      },
      "source": [
        "from sklearn.preprocessing import  PolynomialFeatures\n",
        "from sklearn.pipeline import make_pipeline\n",
        "#We adjust a 4th degree polynomial function\n",
        "pipeline = make_pipeline(PolynomialFeatures(4), LinearRegression())\n",
        "\n",
        "X_train, X_test, y_train, y_test = train_test_split(X,y, train_size = 0.8, random_state = 0)\n",
        "\n",
        "pipeline.fit(X_train, y_train)\n",
        "\n",
        "y_pred = pipeline.predict(X_test)"
      ],
      "execution_count": null,
      "outputs": []
    },
    {
      "cell_type": "code",
      "metadata": {
        "id": "CPAM4jPIrCvH",
        "colab": {
          "base_uri": "https://localhost:8080/",
          "height": 442
        },
        "outputId": "e6f3d66d-c7d5-4b6c-814f-7f627846186d"
      },
      "source": [
        "df = pd.DataFrame({\"x\":X_test[:,0], \"y\": y_pred[:,0]})\n",
        "df.sort_values(by = \"x\", inplace = True)\n",
        "\n",
        "points = df.to_numpy()\n",
        "plt.figure(figsize=(7,7))\n",
        "plt.plot(points[:,0], points[:,1], color = \"blue\", linewidth = 3)\n",
        "plt.xlabel(\"Package\")\n",
        "plt.xlabel(\"Price\")\n",
        "plt.scatter(X, y, color= \"black\")\n",
        "_ = plt.show()"
      ],
      "execution_count": null,
      "outputs": [
        {
          "output_type": "display_data",
          "data": {
            "image/png": "[encoded data removed]",
            "text/plain": [
              "<Figure size 504x504 with 1 Axes>"
            ]
          },
          "metadata": {
            "tags": [],
            "needs_background": "light"
          }
        }
      ]
    },
    {
      "cell_type": "code",
      "metadata": {
        "id": "SLpezgOps_r_",
        "colab": {
          "base_uri": "https://localhost:8080/"
        },
        "outputId": "0d2e78f8-e85c-4df4-f9d8-4439b98b516a"
      },
      "source": [
        "print(f\"model acc: {pipeline.score(X_test, y_test)}\")"
      ],
      "execution_count": null,
      "outputs": [
        {
          "output_type": "stream",
          "text": [
            "model acc: 0.8744883218018484\n"
          ],
          "name": "stdout"
        }
      ]
    },
    {
      "cell_type": "code",
      "metadata": {
        "id": "ekzs_7UNtjdA",
        "colab": {
          "base_uri": "https://localhost:8080/"
        },
        "outputId": "0f4c4d8a-ab67-467a-d57d-202b22312d4c"
      },
      "source": [
        "print(f\"prediction for: {2.75}\")\n",
        "print(f\"{pipeline.predict(np.array([[2.75]]))}\")"
      ],
      "execution_count": null,
      "outputs": [
        {
          "output_type": "stream",
          "text": [
            "prediction for: 2.75\n",
            "[[46.34509342]]\n"
          ],
          "name": "stdout"
        }
      ]
    }
  ]
}