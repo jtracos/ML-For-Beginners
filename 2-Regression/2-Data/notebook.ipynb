{
  "nbformat": 4,
  "nbformat_minor": 0,
  "metadata": {
    "colab": {
      "name": "notebook.ipynb",
      "provenance": [],
      "collapsed_sections": []
    },
    "kernelspec": {
      "name": "python3",
      "display_name": "Python 3"
    },
    "language_info": {
      "name": "python"
    }
  },
  "cells": [
    {
      "cell_type": "code",
      "metadata": {
        "id": "wo_8dd6lRyOr"
      },
      "source": [
        "from sklearn import datasets, model_selection, linear_model, metrics\n",
        "import numpy as np\n",
        "import pandas as pd\n",
        "\n",
        "import matplotlib.pyplot as plt\n",
        "import seaborn as sns\n",
        "import urllib\n",
        "import requests"
      ],
      "execution_count": 20,
      "outputs": []
    },
    {
      "cell_type": "code",
      "metadata": {
        "colab": {
          "base_uri": "https://localhost:8080/",
          "height": 247
        },
        "id": "EHc88vmy_i3B",
        "outputId": "f5cc8761-4c53-436f-f6b1-5465a319a905"
      },
      "source": [
        "df = pd.read_csv(\"US-pumpkins.csv\")\n",
        "df.describe(include = [object])"
      ],
      "execution_count": 39,
      "outputs": [
        {
          "output_type": "execute_result",
          "data": {
            "text/html": [
              "<div>\n",
              "<style scoped>\n",
              "    .dataframe tbody tr th:only-of-type {\n",
              "        vertical-align: middle;\n",
              "    }\n",
              "\n",
              "    .dataframe tbody tr th {\n",
              "        vertical-align: top;\n",
              "    }\n",
              "\n",
              "    .dataframe thead th {\n",
              "        text-align: right;\n",
              "    }\n",
              "</style>\n",
              "<table border=\"1\" class=\"dataframe\">\n",
              "  <thead>\n",
              "    <tr style=\"text-align: right;\">\n",
              "      <th></th>\n",
              "      <th>City Name</th>\n",
              "      <th>Type</th>\n",
              "      <th>Package</th>\n",
              "      <th>Variety</th>\n",
              "      <th>Sub Variety</th>\n",
              "      <th>Date</th>\n",
              "      <th>Origin</th>\n",
              "      <th>Origin District</th>\n",
              "      <th>Item Size</th>\n",
              "      <th>Color</th>\n",
              "      <th>Unit of Sale</th>\n",
              "      <th>Repack</th>\n",
              "      <th>Unnamed: 25</th>\n",
              "    </tr>\n",
              "  </thead>\n",
              "  <tbody>\n",
              "    <tr>\n",
              "      <th>count</th>\n",
              "      <td>1757</td>\n",
              "      <td>45</td>\n",
              "      <td>1757</td>\n",
              "      <td>1752</td>\n",
              "      <td>296</td>\n",
              "      <td>1757</td>\n",
              "      <td>1754</td>\n",
              "      <td>131</td>\n",
              "      <td>1478</td>\n",
              "      <td>1141</td>\n",
              "      <td>162</td>\n",
              "      <td>1757</td>\n",
              "      <td>103</td>\n",
              "    </tr>\n",
              "    <tr>\n",
              "      <th>unique</th>\n",
              "      <td>13</td>\n",
              "      <td>1</td>\n",
              "      <td>15</td>\n",
              "      <td>10</td>\n",
              "      <td>2</td>\n",
              "      <td>57</td>\n",
              "      <td>24</td>\n",
              "      <td>5</td>\n",
              "      <td>7</td>\n",
              "      <td>3</td>\n",
              "      <td>4</td>\n",
              "      <td>2</td>\n",
              "      <td>4</td>\n",
              "    </tr>\n",
              "    <tr>\n",
              "      <th>top</th>\n",
              "      <td>BOSTON</td>\n",
              "      <td>Organic</td>\n",
              "      <td>36 inch bins</td>\n",
              "      <td>HOWDEN TYPE</td>\n",
              "      <td>FLAT TYPE</td>\n",
              "      <td>10/8/16</td>\n",
              "      <td>PENNSYLVANIA</td>\n",
              "      <td>QUEBEC</td>\n",
              "      <td>sml</td>\n",
              "      <td>ORANGE</td>\n",
              "      <td>PER BIN</td>\n",
              "      <td>N</td>\n",
              "      <td>LOWER.</td>\n",
              "    </tr>\n",
              "    <tr>\n",
              "      <th>freq</th>\n",
              "      <td>352</td>\n",
              "      <td>45</td>\n",
              "      <td>663</td>\n",
              "      <td>542</td>\n",
              "      <td>212</td>\n",
              "      <td>180</td>\n",
              "      <td>250</td>\n",
              "      <td>48</td>\n",
              "      <td>363</td>\n",
              "      <td>916</td>\n",
              "      <td>98</td>\n",
              "      <td>1752</td>\n",
              "      <td>41</td>\n",
              "    </tr>\n",
              "  </tbody>\n",
              "</table>\n",
              "</div>"
            ],
            "text/plain": [
              "       City Name     Type       Package  ... Unit of Sale Repack Unnamed: 25\n",
              "count       1757       45          1757  ...          162   1757         103\n",
              "unique        13        1            15  ...            4      2           4\n",
              "top       BOSTON  Organic  36 inch bins  ...      PER BIN      N      LOWER.\n",
              "freq         352       45           663  ...           98   1752          41\n",
              "\n",
              "[4 rows x 13 columns]"
            ]
          },
          "metadata": {
            "tags": []
          },
          "execution_count": 39
        }
      ]
    },
    {
      "cell_type": "code",
      "metadata": {
        "colab": {
          "base_uri": "https://localhost:8080/"
        },
        "id": "KeP2ZlYa9OR6",
        "outputId": "4815f93e-f9f4-4936-d00a-5578d6e4e92b"
      },
      "source": [
        "df.isnull().sum()"
      ],
      "execution_count": 31,
      "outputs": [
        {
          "output_type": "execute_result",
          "data": {
            "text/plain": [
              "City Name             0\n",
              "Type               1712\n",
              "Package               0\n",
              "Variety               5\n",
              "Sub Variety        1461\n",
              "Grade              1757\n",
              "Date                  0\n",
              "Low Price             0\n",
              "High Price            0\n",
              "Mostly Low          103\n",
              "Mostly High         103\n",
              "Origin                3\n",
              "Origin District    1626\n",
              "Item Size           279\n",
              "Color               616\n",
              "Environment        1757\n",
              "Unit of Sale       1595\n",
              "Quality            1757\n",
              "Condition          1757\n",
              "Appearance         1757\n",
              "Storage            1757\n",
              "Crop               1757\n",
              "Repack                0\n",
              "Trans Mode         1757\n",
              "Unnamed: 24        1757\n",
              "Unnamed: 25        1654\n",
              "dtype: int64"
            ]
          },
          "metadata": {
            "tags": []
          },
          "execution_count": 31
        }
      ]
    },
    {
      "cell_type": "code",
      "metadata": {
        "id": "dpNlRKiA9OBh"
      },
      "source": [
        "new_columns = [\"Package\", \"Month\", \"Low Price\", \"High Price\", \"Date\"]\n",
        "df = df.drop([c for c in df.columns if c not in new_columns], axis=1)"
      ],
      "execution_count": 40,
      "outputs": []
    },
    {
      "cell_type": "code",
      "metadata": {
        "colab": {
          "base_uri": "https://localhost:8080/",
          "height": 206
        },
        "id": "pJAYzN70CTcI",
        "outputId": "addf34b0-89ac-4583-c420-c79daec2f960"
      },
      "source": [
        "df[\"Price\"] = (df[\"High Price\"] + df[\"Low Price\"])/2\n",
        "df[\"Month\"] = pd.DatetimeIndex(df[\"Date\"]).month\n",
        "df = df[[\"Month\", \"Package\", \"Low Price\", \"High Price\", \"Price\"]]\n",
        "df.head()"
      ],
      "execution_count": 41,
      "outputs": [
        {
          "output_type": "execute_result",
          "data": {
            "text/html": [
              "<div>\n",
              "<style scoped>\n",
              "    .dataframe tbody tr th:only-of-type {\n",
              "        vertical-align: middle;\n",
              "    }\n",
              "\n",
              "    .dataframe tbody tr th {\n",
              "        vertical-align: top;\n",
              "    }\n",
              "\n",
              "    .dataframe thead th {\n",
              "        text-align: right;\n",
              "    }\n",
              "</style>\n",
              "<table border=\"1\" class=\"dataframe\">\n",
              "  <thead>\n",
              "    <tr style=\"text-align: right;\">\n",
              "      <th></th>\n",
              "      <th>Month</th>\n",
              "      <th>Package</th>\n",
              "      <th>Low Price</th>\n",
              "      <th>High Price</th>\n",
              "      <th>Price</th>\n",
              "    </tr>\n",
              "  </thead>\n",
              "  <tbody>\n",
              "    <tr>\n",
              "      <th>0</th>\n",
              "      <td>4</td>\n",
              "      <td>24 inch bins</td>\n",
              "      <td>270.0</td>\n",
              "      <td>280.0</td>\n",
              "      <td>275.0</td>\n",
              "    </tr>\n",
              "    <tr>\n",
              "      <th>1</th>\n",
              "      <td>5</td>\n",
              "      <td>24 inch bins</td>\n",
              "      <td>270.0</td>\n",
              "      <td>280.0</td>\n",
              "      <td>275.0</td>\n",
              "    </tr>\n",
              "    <tr>\n",
              "      <th>2</th>\n",
              "      <td>9</td>\n",
              "      <td>24 inch bins</td>\n",
              "      <td>160.0</td>\n",
              "      <td>160.0</td>\n",
              "      <td>160.0</td>\n",
              "    </tr>\n",
              "    <tr>\n",
              "      <th>3</th>\n",
              "      <td>9</td>\n",
              "      <td>24 inch bins</td>\n",
              "      <td>160.0</td>\n",
              "      <td>160.0</td>\n",
              "      <td>160.0</td>\n",
              "    </tr>\n",
              "    <tr>\n",
              "      <th>4</th>\n",
              "      <td>11</td>\n",
              "      <td>24 inch bins</td>\n",
              "      <td>90.0</td>\n",
              "      <td>100.0</td>\n",
              "      <td>95.0</td>\n",
              "    </tr>\n",
              "  </tbody>\n",
              "</table>\n",
              "</div>"
            ],
            "text/plain": [
              "   Month       Package  Low Price  High Price  Price\n",
              "0      4  24 inch bins      270.0       280.0  275.0\n",
              "1      5  24 inch bins      270.0       280.0  275.0\n",
              "2      9  24 inch bins      160.0       160.0  160.0\n",
              "3      9  24 inch bins      160.0       160.0  160.0\n",
              "4     11  24 inch bins       90.0       100.0   95.0"
            ]
          },
          "metadata": {
            "tags": []
          },
          "execution_count": 41
        }
      ]
    },
    {
      "cell_type": "code",
      "metadata": {
        "colab": {
          "base_uri": "https://localhost:8080/"
        },
        "id": "JTlSU-tQFRFs",
        "outputId": "375f5b88-db5c-40c1-cf9d-44e9ddfd34c8"
      },
      "source": [
        "df.Package.value_counts()"
      ],
      "execution_count": 42,
      "outputs": [
        {
          "output_type": "execute_result",
          "data": {
            "text/plain": [
              "36 inch bins            663\n",
              "24 inch bins            551\n",
              "1/2 bushel cartons      234\n",
              "1 1/9 bushel cartons    117\n",
              "35 lb cartons            42\n",
              "bushel cartons           37\n",
              "40 lb cartons            19\n",
              "1 1/9 bushel crates      17\n",
              "each                     17\n",
              "bins                     13\n",
              "50 lb sacks              11\n",
              "50 lb cartons            10\n",
              "22 lb cartons            10\n",
              "bushel baskets           10\n",
              "20 lb cartons             6\n",
              "Name: Package, dtype: int64"
            ]
          },
          "metadata": {
            "tags": []
          },
          "execution_count": 42
        }
      ]
    },
    {
      "cell_type": "code",
      "metadata": {
        "id": "iCYiAnX6Fp_6"
      },
      "source": [
        "df = df[df.Package.str.contains(\"bushel\", case=True, regex=True)]\n",
        "\n",
        "#Normalizing prices\n",
        "price = df[\"Price\"]\n",
        "df.loc[df[\"Package\"].str.contains(\"1 1/2\"),\"Price\"] = price/(1+ 1/2)\n",
        "df.loc[df[\"Package\"].str.contains(\"1 1/9\"),\"Price\"] = price/(1+ 1/9)"
      ],
      "execution_count": 43,
      "outputs": []
    },
    {
      "cell_type": "code",
      "metadata": {
        "colab": {
          "base_uri": "https://localhost:8080/",
          "height": 206
        },
        "id": "Tdi82jtmIMRb",
        "outputId": "e35d82d9-d239-412a-ca2d-c7e05a8952e3"
      },
      "source": [
        "df.head()"
      ],
      "execution_count": 44,
      "outputs": [
        {
          "output_type": "execute_result",
          "data": {
            "text/html": [
              "<div>\n",
              "<style scoped>\n",
              "    .dataframe tbody tr th:only-of-type {\n",
              "        vertical-align: middle;\n",
              "    }\n",
              "\n",
              "    .dataframe tbody tr th {\n",
              "        vertical-align: top;\n",
              "    }\n",
              "\n",
              "    .dataframe thead th {\n",
              "        text-align: right;\n",
              "    }\n",
              "</style>\n",
              "<table border=\"1\" class=\"dataframe\">\n",
              "  <thead>\n",
              "    <tr style=\"text-align: right;\">\n",
              "      <th></th>\n",
              "      <th>Month</th>\n",
              "      <th>Package</th>\n",
              "      <th>Low Price</th>\n",
              "      <th>High Price</th>\n",
              "      <th>Price</th>\n",
              "    </tr>\n",
              "  </thead>\n",
              "  <tbody>\n",
              "    <tr>\n",
              "      <th>70</th>\n",
              "      <td>9</td>\n",
              "      <td>1 1/9 bushel cartons</td>\n",
              "      <td>15.0</td>\n",
              "      <td>15.0</td>\n",
              "      <td>13.5</td>\n",
              "    </tr>\n",
              "    <tr>\n",
              "      <th>71</th>\n",
              "      <td>9</td>\n",
              "      <td>1 1/9 bushel cartons</td>\n",
              "      <td>18.0</td>\n",
              "      <td>18.0</td>\n",
              "      <td>16.2</td>\n",
              "    </tr>\n",
              "    <tr>\n",
              "      <th>72</th>\n",
              "      <td>10</td>\n",
              "      <td>1 1/9 bushel cartons</td>\n",
              "      <td>18.0</td>\n",
              "      <td>18.0</td>\n",
              "      <td>16.2</td>\n",
              "    </tr>\n",
              "    <tr>\n",
              "      <th>73</th>\n",
              "      <td>10</td>\n",
              "      <td>1 1/9 bushel cartons</td>\n",
              "      <td>17.0</td>\n",
              "      <td>17.0</td>\n",
              "      <td>15.3</td>\n",
              "    </tr>\n",
              "    <tr>\n",
              "      <th>74</th>\n",
              "      <td>10</td>\n",
              "      <td>1 1/9 bushel cartons</td>\n",
              "      <td>15.0</td>\n",
              "      <td>15.0</td>\n",
              "      <td>13.5</td>\n",
              "    </tr>\n",
              "  </tbody>\n",
              "</table>\n",
              "</div>"
            ],
            "text/plain": [
              "    Month               Package  Low Price  High Price  Price\n",
              "70      9  1 1/9 bushel cartons       15.0        15.0   13.5\n",
              "71      9  1 1/9 bushel cartons       18.0        18.0   16.2\n",
              "72     10  1 1/9 bushel cartons       18.0        18.0   16.2\n",
              "73     10  1 1/9 bushel cartons       17.0        17.0   15.3\n",
              "74     10  1 1/9 bushel cartons       15.0        15.0   13.5"
            ]
          },
          "metadata": {
            "tags": []
          },
          "execution_count": 44
        }
      ]
    },
    {
      "cell_type": "code",
      "metadata": {
        "colab": {
          "base_uri": "https://localhost:8080/",
          "height": 446
        },
        "id": "2mu9a8MuJBGN",
        "outputId": "e43dc1bb-4e11-4fbc-b593-75b54a446b19"
      },
      "source": [
        "plt.figure(figsize=(10,7))\n",
        "plt.scatter(df.Price, df.Month)\n",
        "plt.ylabel(\"Month\",{\"size\":14})\n",
        "plt.xlabel(\"Price\",{\"size\":14})\n",
        "plt.yticks(ticks=[i for i in range(8,13)], labels=[\"AUG\",\"SEP\",\"OCT\",\"NOV\",\"DIC\"])\n",
        "_ = plt.show()"
      ],
      "execution_count": 51,
      "outputs": [
        {
          "output_type": "display_data",
          "data": {
            "image/png": "[encoded data removed]",
            "text/plain": [
              "<Figure size 720x504 with 1 Axes>"
            ]
          },
          "metadata": {
            "tags": [],
            "needs_background": "light"
          }
        }
      ]
    },
    {
      "cell_type": "code",
      "metadata": {
        "colab": {
          "base_uri": "https://localhost:8080/",
          "height": 305
        },
        "id": "-66SIffNK5M1",
        "outputId": "ba422df1-b148-4ea4-9e09-249ba4445b4e"
      },
      "source": [
        "plt.figure(figsize=(7,4))\n",
        "df.groupby(\"Month\")[\"Price\"].mean().plot(kind = \"bar\")\n",
        "_ = plt.title(\"Pumpkin Average Price per Month\")"
      ],
      "execution_count": 74,
      "outputs": [
        {
          "output_type": "display_data",
          "data": {
            "image/png": "[encoded data removed]",
            "text/plain": [
              "<Figure size 504x288 with 1 Axes>"
            ]
          },
          "metadata": {
            "tags": []
          }
        }
      ]
    },
    {
      "cell_type": "code",
      "metadata": {
        "colab": {
          "base_uri": "https://localhost:8080/",
          "height": 355
        },
        "id": "aMTd7eiAPSPs",
        "outputId": "160c136c-9b91-4044-fd98-2900832374ee"
      },
      "source": [
        "plt.figure(figsize=(10,5))\n",
        "sns.set_theme(style=\"whitegrid\")\n",
        "plt.title(\"Distribution of pumpkin price per month\")\n",
        "_ = sns.violinplot(x=\"Month\", y = \"Price\", data = df)"
      ],
      "execution_count": 72,
      "outputs": [
        {
          "output_type": "display_data",
          "data": {
            "image/png": "[encoded data removed]",
            "text/plain": [
              "<Figure size 720x360 with 1 Axes>"
            ]
          },
          "metadata": {
            "tags": []
          }
        }
      ]
    },
    {
      "cell_type": "code",
      "metadata": {
        "id": "uszst4UoQFUn"
      },
      "source": [
        ""
      ],
      "execution_count": null,
      "outputs": []
    }
  ]
}